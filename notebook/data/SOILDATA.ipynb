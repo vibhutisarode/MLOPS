{
 "cells": [
  {
   "cell_type": "code",
   "execution_count": 1,
   "id": "3de67e4c",
   "metadata": {},
   "outputs": [],
   "source": [
    "import numpy as np\n",
    "import pandas as pd\n",
    "import seaborn as sns\n",
    "import matplotlib.pyplot as plt\n",
    "%matplotlib inline\n",
    "import warnings\n",
    "warnings.filterwarnings('ignore')\n"
   ]
  },
  {
   "cell_type": "code",
   "execution_count": 5,
   "id": "cb459bc5",
   "metadata": {},
   "outputs": [
    {
     "data": {
      "text/html": [
       "<div>\n",
       "<style scoped>\n",
       "    .dataframe tbody tr th:only-of-type {\n",
       "        vertical-align: middle;\n",
       "    }\n",
       "\n",
       "    .dataframe tbody tr th {\n",
       "        vertical-align: top;\n",
       "    }\n",
       "\n",
       "    .dataframe thead th {\n",
       "        text-align: right;\n",
       "    }\n",
       "</style>\n",
       "<table border=\"1\" class=\"dataframe\">\n",
       "  <thead>\n",
       "    <tr style=\"text-align: right;\">\n",
       "      <th></th>\n",
       "      <th>District</th>\n",
       "      <th>Soil Type</th>\n",
       "      <th>pH Level</th>\n",
       "      <th>Organic Matter (%)</th>\n",
       "      <th>Nitrogen Content (kg/ha)</th>\n",
       "      <th>Phosphorus Content (kg/ha)</th>\n",
       "      <th>Potassium Content (kg/ha)</th>\n",
       "    </tr>\n",
       "  </thead>\n",
       "  <tbody>\n",
       "    <tr>\n",
       "      <th>0</th>\n",
       "      <td>Jaipur</td>\n",
       "      <td>Chalky (Calcareous)</td>\n",
       "      <td>6.546096</td>\n",
       "      <td>1.569807</td>\n",
       "      <td>27.931972</td>\n",
       "      <td>29.438438</td>\n",
       "      <td>42.782766</td>\n",
       "    </tr>\n",
       "    <tr>\n",
       "      <th>1</th>\n",
       "      <td>Bhilwara</td>\n",
       "      <td>Nitrogenous</td>\n",
       "      <td>6.832259</td>\n",
       "      <td>2.243018</td>\n",
       "      <td>22.263480</td>\n",
       "      <td>25.413455</td>\n",
       "      <td>37.644377</td>\n",
       "    </tr>\n",
       "    <tr>\n",
       "      <th>2</th>\n",
       "      <td>Jodhpur</td>\n",
       "      <td>Sandy</td>\n",
       "      <td>7.453182</td>\n",
       "      <td>2.662898</td>\n",
       "      <td>23.564182</td>\n",
       "      <td>13.014409</td>\n",
       "      <td>37.082003</td>\n",
       "    </tr>\n",
       "    <tr>\n",
       "      <th>3</th>\n",
       "      <td>Jaipur</td>\n",
       "      <td>Clay</td>\n",
       "      <td>8.019189</td>\n",
       "      <td>1.240327</td>\n",
       "      <td>15.839222</td>\n",
       "      <td>17.744206</td>\n",
       "      <td>42.758704</td>\n",
       "    </tr>\n",
       "    <tr>\n",
       "      <th>4</th>\n",
       "      <td>Jaipur</td>\n",
       "      <td>Sandy</td>\n",
       "      <td>8.100131</td>\n",
       "      <td>1.768419</td>\n",
       "      <td>27.942867</td>\n",
       "      <td>25.769504</td>\n",
       "      <td>30.651292</td>\n",
       "    </tr>\n",
       "  </tbody>\n",
       "</table>\n",
       "</div>"
      ],
      "text/plain": [
       "   District            Soil Type  pH Level  Organic Matter (%)  \\\n",
       "0    Jaipur  Chalky (Calcareous)  6.546096            1.569807   \n",
       "1  Bhilwara          Nitrogenous  6.832259            2.243018   \n",
       "2   Jodhpur                Sandy  7.453182            2.662898   \n",
       "3    Jaipur                 Clay  8.019189            1.240327   \n",
       "4    Jaipur                Sandy  8.100131            1.768419   \n",
       "\n",
       "   Nitrogen Content (kg/ha)  Phosphorus Content (kg/ha)  \\\n",
       "0                 27.931972                   29.438438   \n",
       "1                 22.263480                   25.413455   \n",
       "2                 23.564182                   13.014409   \n",
       "3                 15.839222                   17.744206   \n",
       "4                 27.942867                   25.769504   \n",
       "\n",
       "   Potassium Content (kg/ha)  \n",
       "0                  42.782766  \n",
       "1                  37.644377  \n",
       "2                  37.082003  \n",
       "3                  42.758704  \n",
       "4                  30.651292  "
      ]
     },
     "execution_count": 5,
     "metadata": {},
     "output_type": "execute_result"
    }
   ],
   "source": [
    "df = pd.read_csv('raw.csv')\n",
    "df.head()\n",
    "\n"
   ]
  },
  {
   "cell_type": "code",
   "execution_count": 6,
   "id": "6937602f",
   "metadata": {},
   "outputs": [
    {
     "data": {
      "text/plain": [
       "(1000, 7)"
      ]
     },
     "execution_count": 6,
     "metadata": {},
     "output_type": "execute_result"
    }
   ],
   "source": [
    "df.shape\n"
   ]
  },
  {
   "cell_type": "code",
   "execution_count": 7,
   "id": "897d4ea9",
   "metadata": {},
   "outputs": [
    {
     "data": {
      "text/plain": [
       "District                      0\n",
       "Soil Type                     0\n",
       "pH Level                      0\n",
       "Organic Matter (%)            0\n",
       "Nitrogen Content (kg/ha)      0\n",
       "Phosphorus Content (kg/ha)    0\n",
       "Potassium Content (kg/ha)     0\n",
       "dtype: int64"
      ]
     },
     "execution_count": 7,
     "metadata": {},
     "output_type": "execute_result"
    }
   ],
   "source": [
    "df.isna().sum()"
   ]
  },
  {
   "cell_type": "code",
   "execution_count": 8,
   "id": "1c2c8eaf",
   "metadata": {},
   "outputs": [
    {
     "data": {
      "text/plain": [
       "np.int64(0)"
      ]
     },
     "execution_count": 8,
     "metadata": {},
     "output_type": "execute_result"
    }
   ],
   "source": [
    "df.duplicated().sum()"
   ]
  },
  {
   "cell_type": "code",
   "execution_count": 9,
   "id": "143010b7",
   "metadata": {},
   "outputs": [
    {
     "name": "stdout",
     "output_type": "stream",
     "text": [
      "<class 'pandas.core.frame.DataFrame'>\n",
      "RangeIndex: 1000 entries, 0 to 999\n",
      "Data columns (total 7 columns):\n",
      " #   Column                      Non-Null Count  Dtype  \n",
      "---  ------                      --------------  -----  \n",
      " 0   District                    1000 non-null   object \n",
      " 1   Soil Type                   1000 non-null   object \n",
      " 2   pH Level                    1000 non-null   float64\n",
      " 3   Organic Matter (%)          1000 non-null   float64\n",
      " 4   Nitrogen Content (kg/ha)    1000 non-null   float64\n",
      " 5   Phosphorus Content (kg/ha)  1000 non-null   float64\n",
      " 6   Potassium Content (kg/ha)   1000 non-null   float64\n",
      "dtypes: float64(5), object(2)\n",
      "memory usage: 54.8+ KB\n"
     ]
    }
   ],
   "source": [
    "df.info()"
   ]
  },
  {
   "cell_type": "code",
   "execution_count": 10,
   "id": "696c546d",
   "metadata": {},
   "outputs": [
    {
     "data": {
      "text/plain": [
       "District                        10\n",
       "Soil Type                        8\n",
       "pH Level                      1000\n",
       "Organic Matter (%)            1000\n",
       "Nitrogen Content (kg/ha)      1000\n",
       "Phosphorus Content (kg/ha)    1000\n",
       "Potassium Content (kg/ha)     1000\n",
       "dtype: int64"
      ]
     },
     "execution_count": 10,
     "metadata": {},
     "output_type": "execute_result"
    }
   ],
   "source": [
    "df.nunique()"
   ]
  },
  {
   "cell_type": "code",
   "execution_count": 11,
   "id": "70a00712",
   "metadata": {},
   "outputs": [
    {
     "data": {
      "text/html": [
       "<div>\n",
       "<style scoped>\n",
       "    .dataframe tbody tr th:only-of-type {\n",
       "        vertical-align: middle;\n",
       "    }\n",
       "\n",
       "    .dataframe tbody tr th {\n",
       "        vertical-align: top;\n",
       "    }\n",
       "\n",
       "    .dataframe thead th {\n",
       "        text-align: right;\n",
       "    }\n",
       "</style>\n",
       "<table border=\"1\" class=\"dataframe\">\n",
       "  <thead>\n",
       "    <tr style=\"text-align: right;\">\n",
       "      <th></th>\n",
       "      <th>pH Level</th>\n",
       "      <th>Organic Matter (%)</th>\n",
       "      <th>Nitrogen Content (kg/ha)</th>\n",
       "      <th>Phosphorus Content (kg/ha)</th>\n",
       "      <th>Potassium Content (kg/ha)</th>\n",
       "    </tr>\n",
       "  </thead>\n",
       "  <tbody>\n",
       "    <tr>\n",
       "      <th>count</th>\n",
       "      <td>1000.000000</td>\n",
       "      <td>1000.000000</td>\n",
       "      <td>1000.000000</td>\n",
       "      <td>1000.000000</td>\n",
       "      <td>1000.000000</td>\n",
       "    </tr>\n",
       "    <tr>\n",
       "      <th>mean</th>\n",
       "      <td>7.495453</td>\n",
       "      <td>1.993592</td>\n",
       "      <td>29.883358</td>\n",
       "      <td>19.729932</td>\n",
       "      <td>39.877907</td>\n",
       "    </tr>\n",
       "    <tr>\n",
       "      <th>std</th>\n",
       "      <td>0.517155</td>\n",
       "      <td>0.515340</td>\n",
       "      <td>5.202697</td>\n",
       "      <td>5.067005</td>\n",
       "      <td>4.874751</td>\n",
       "    </tr>\n",
       "    <tr>\n",
       "      <th>min</th>\n",
       "      <td>5.889492</td>\n",
       "      <td>0.155817</td>\n",
       "      <td>11.994574</td>\n",
       "      <td>4.961838</td>\n",
       "      <td>24.116481</td>\n",
       "    </tr>\n",
       "    <tr>\n",
       "      <th>25%</th>\n",
       "      <td>7.157881</td>\n",
       "      <td>1.638911</td>\n",
       "      <td>26.217325</td>\n",
       "      <td>16.216471</td>\n",
       "      <td>36.703917</td>\n",
       "    </tr>\n",
       "    <tr>\n",
       "      <th>50%</th>\n",
       "      <td>7.500129</td>\n",
       "      <td>1.981462</td>\n",
       "      <td>29.822797</td>\n",
       "      <td>19.913737</td>\n",
       "      <td>39.796016</td>\n",
       "    </tr>\n",
       "    <tr>\n",
       "      <th>75%</th>\n",
       "      <td>7.846940</td>\n",
       "      <td>2.345688</td>\n",
       "      <td>33.232056</td>\n",
       "      <td>23.122285</td>\n",
       "      <td>43.382039</td>\n",
       "    </tr>\n",
       "    <tr>\n",
       "      <th>max</th>\n",
       "      <td>9.038430</td>\n",
       "      <td>3.764528</td>\n",
       "      <td>45.760284</td>\n",
       "      <td>35.588406</td>\n",
       "      <td>54.678290</td>\n",
       "    </tr>\n",
       "  </tbody>\n",
       "</table>\n",
       "</div>"
      ],
      "text/plain": [
       "          pH Level  Organic Matter (%)  Nitrogen Content (kg/ha)  \\\n",
       "count  1000.000000         1000.000000               1000.000000   \n",
       "mean      7.495453            1.993592                 29.883358   \n",
       "std       0.517155            0.515340                  5.202697   \n",
       "min       5.889492            0.155817                 11.994574   \n",
       "25%       7.157881            1.638911                 26.217325   \n",
       "50%       7.500129            1.981462                 29.822797   \n",
       "75%       7.846940            2.345688                 33.232056   \n",
       "max       9.038430            3.764528                 45.760284   \n",
       "\n",
       "       Phosphorus Content (kg/ha)  Potassium Content (kg/ha)  \n",
       "count                 1000.000000                1000.000000  \n",
       "mean                    19.729932                  39.877907  \n",
       "std                      5.067005                   4.874751  \n",
       "min                      4.961838                  24.116481  \n",
       "25%                     16.216471                  36.703917  \n",
       "50%                     19.913737                  39.796016  \n",
       "75%                     23.122285                  43.382039  \n",
       "max                     35.588406                  54.678290  "
      ]
     },
     "execution_count": 11,
     "metadata": {},
     "output_type": "execute_result"
    }
   ],
   "source": [
    "df.describe()"
   ]
  },
  {
   "cell_type": "code",
   "execution_count": 12,
   "id": "6b6fe15f",
   "metadata": {},
   "outputs": [
    {
     "data": {
      "text/html": [
       "<div>\n",
       "<style scoped>\n",
       "    .dataframe tbody tr th:only-of-type {\n",
       "        vertical-align: middle;\n",
       "    }\n",
       "\n",
       "    .dataframe tbody tr th {\n",
       "        vertical-align: top;\n",
       "    }\n",
       "\n",
       "    .dataframe thead th {\n",
       "        text-align: right;\n",
       "    }\n",
       "</style>\n",
       "<table border=\"1\" class=\"dataframe\">\n",
       "  <thead>\n",
       "    <tr style=\"text-align: right;\">\n",
       "      <th></th>\n",
       "      <th>District</th>\n",
       "      <th>Soil Type</th>\n",
       "      <th>pH Level</th>\n",
       "      <th>Organic Matter (%)</th>\n",
       "      <th>Nitrogen Content (kg/ha)</th>\n",
       "      <th>Phosphorus Content (kg/ha)</th>\n",
       "      <th>Potassium Content (kg/ha)</th>\n",
       "    </tr>\n",
       "  </thead>\n",
       "  <tbody>\n",
       "    <tr>\n",
       "      <th>0</th>\n",
       "      <td>Jaipur</td>\n",
       "      <td>Chalky (Calcareous)</td>\n",
       "      <td>6.546096</td>\n",
       "      <td>1.569807</td>\n",
       "      <td>27.931972</td>\n",
       "      <td>29.438438</td>\n",
       "      <td>42.782766</td>\n",
       "    </tr>\n",
       "    <tr>\n",
       "      <th>1</th>\n",
       "      <td>Bhilwara</td>\n",
       "      <td>Nitrogenous</td>\n",
       "      <td>6.832259</td>\n",
       "      <td>2.243018</td>\n",
       "      <td>22.263480</td>\n",
       "      <td>25.413455</td>\n",
       "      <td>37.644377</td>\n",
       "    </tr>\n",
       "    <tr>\n",
       "      <th>2</th>\n",
       "      <td>Jodhpur</td>\n",
       "      <td>Sandy</td>\n",
       "      <td>7.453182</td>\n",
       "      <td>2.662898</td>\n",
       "      <td>23.564182</td>\n",
       "      <td>13.014409</td>\n",
       "      <td>37.082003</td>\n",
       "    </tr>\n",
       "    <tr>\n",
       "      <th>3</th>\n",
       "      <td>Jaipur</td>\n",
       "      <td>Clay</td>\n",
       "      <td>8.019189</td>\n",
       "      <td>1.240327</td>\n",
       "      <td>15.839222</td>\n",
       "      <td>17.744206</td>\n",
       "      <td>42.758704</td>\n",
       "    </tr>\n",
       "    <tr>\n",
       "      <th>4</th>\n",
       "      <td>Jaipur</td>\n",
       "      <td>Sandy</td>\n",
       "      <td>8.100131</td>\n",
       "      <td>1.768419</td>\n",
       "      <td>27.942867</td>\n",
       "      <td>25.769504</td>\n",
       "      <td>30.651292</td>\n",
       "    </tr>\n",
       "  </tbody>\n",
       "</table>\n",
       "</div>"
      ],
      "text/plain": [
       "   District            Soil Type  pH Level  Organic Matter (%)  \\\n",
       "0    Jaipur  Chalky (Calcareous)  6.546096            1.569807   \n",
       "1  Bhilwara          Nitrogenous  6.832259            2.243018   \n",
       "2   Jodhpur                Sandy  7.453182            2.662898   \n",
       "3    Jaipur                 Clay  8.019189            1.240327   \n",
       "4    Jaipur                Sandy  8.100131            1.768419   \n",
       "\n",
       "   Nitrogen Content (kg/ha)  Phosphorus Content (kg/ha)  \\\n",
       "0                 27.931972                   29.438438   \n",
       "1                 22.263480                   25.413455   \n",
       "2                 23.564182                   13.014409   \n",
       "3                 15.839222                   17.744206   \n",
       "4                 27.942867                   25.769504   \n",
       "\n",
       "   Potassium Content (kg/ha)  \n",
       "0                  42.782766  \n",
       "1                  37.644377  \n",
       "2                  37.082003  \n",
       "3                  42.758704  \n",
       "4                  30.651292  "
      ]
     },
     "execution_count": 12,
     "metadata": {},
     "output_type": "execute_result"
    }
   ],
   "source": [
    "df.head()"
   ]
  },
  {
   "cell_type": "code",
   "execution_count": null,
   "id": "6e4df8ce",
   "metadata": {},
   "outputs": [],
   "source": []
  }
 ],
 "metadata": {
  "kernelspec": {
   "display_name": "Python 3",
   "language": "python",
   "name": "python3"
  },
  "language_info": {
   "codemirror_mode": {
    "name": "ipython",
    "version": 3
   },
   "file_extension": ".py",
   "mimetype": "text/x-python",
   "name": "python",
   "nbconvert_exporter": "python",
   "pygments_lexer": "ipython3",
   "version": "3.9.0"
  }
 },
 "nbformat": 4,
 "nbformat_minor": 5
}
